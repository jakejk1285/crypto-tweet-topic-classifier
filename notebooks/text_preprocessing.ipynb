{
 "cells": [
  {
   "cell_type": "code",
   "id": "initial_id",
   "metadata": {
    "collapsed": true,
    "ExecuteTime": {
     "end_time": "2025-04-21T15:42:56.762123Z",
     "start_time": "2025-04-21T15:42:33.181134Z"
    }
   },
   "source": [
    "import pandas as pd\n",
    "import json\n",
    "\n",
    "# Load the JSON file\n",
    "with open('Crypto Tweet DataBase/october.json', 'r') as f:\n",
    "    data = json.load(f)\n",
    "\n",
    "# Convert to DataFrame\n",
    "df = pd.DataFrame(data)"
   ],
   "outputs": [],
   "execution_count": 1
  },
  {
   "metadata": {
    "ExecuteTime": {
     "end_time": "2025-04-18T15:10:07.724774Z",
     "start_time": "2025-04-18T15:10:07.719147Z"
    }
   },
   "cell_type": "code",
   "source": [
    "print(df.shape)\n",
    "df.columns"
   ],
   "id": "400bbcb47ea504d9",
   "outputs": [
    {
     "name": "stdout",
     "output_type": "stream",
     "text": [
      "(7351777, 8)\n"
     ]
    },
    {
     "data": {
      "text/plain": [
       "Index(['_id', 'name', 'content', 'id', 'text', 'keywords', 'timestamp_ms',\n",
       "       'retweeted_id'],\n",
       "      dtype='object')"
      ]
     },
     "execution_count": 14,
     "metadata": {},
     "output_type": "execute_result"
    }
   ],
   "execution_count": 14
  },
  {
   "metadata": {},
   "cell_type": "code",
   "outputs": [],
   "execution_count": null,
   "source": [
    "# help me reduce the dataset to 300,000 rows\n",
    "# reduce the dataset to 300,000 rows\n",
    "df = df.sample(n=300000, random_state=1)\n"
   ],
   "id": "948a8f088fb9de9e"
  },
  {
   "metadata": {
    "ExecuteTime": {
     "end_time": "2025-04-16T15:58:45.752474Z",
     "start_time": "2025-04-16T15:58:45.748648Z"
    }
   },
   "cell_type": "code",
   "source": [
    "\n",
    "# print only the column text\n",
    "df['text']"
   ],
   "id": "a2d9cf6039c0de81",
   "outputs": [
    {
     "data": {
      "text/plain": [
       "0                                                        NaN\n",
       "1                                                        NaN\n",
       "2                                                        NaN\n",
       "3                                                        NaN\n",
       "4          RT @UniverseofPoker: Boosted Daily Legends Cen...\n",
       "                                 ...                        \n",
       "7351772    Last November gas prices hiked 3 folds and a y...\n",
       "7351773    RT @teuhavostream: It's official, Treasure Mak...\n",
       "7351774    @Morlox7 @ItzEsdeath @ScuffedIceCube Guess the...\n",
       "7351775    @stmadoesboy @ScotGovFM @scotgov Yes. It is in...\n",
       "7351776    RT @KingGod79: “And in that day seven women sh...\n",
       "Name: text, Length: 7351777, dtype: object"
      ]
     },
     "execution_count": 9,
     "metadata": {},
     "output_type": "execute_result"
    }
   ],
   "execution_count": 9
  },
  {
   "metadata": {
    "ExecuteTime": {
     "end_time": "2025-04-22T14:52:54.197928Z",
     "start_time": "2025-04-22T14:52:39.240086Z"
    }
   },
   "cell_type": "code",
   "source": "df = pd.read_csv('Crypto Tweet DataBase/october_stratified_sample.csv')\n",
   "id": "aeece58e7a18c5d7",
   "outputs": [
    {
     "name": "stderr",
     "output_type": "stream",
     "text": [
      "/var/folders/96/_18gc1fx05x2_7v24lx77l7m0000gn/T/ipykernel_55498/4022827088.py:1: DtypeWarning: Columns (8,9) have mixed types. Specify dtype option on import or set low_memory=False.\n",
      "  df = pd.read_csv('Crypto Tweet DataBase/october_stratified_sample.csv')\n"
     ]
    }
   ],
   "execution_count": 2
  },
  {
   "metadata": {
    "ExecuteTime": {
     "end_time": "2025-04-22T14:53:00.192499Z",
     "start_time": "2025-04-22T14:53:00.184279Z"
    }
   },
   "cell_type": "code",
   "source": "df.shape",
   "id": "2e84533323413f00",
   "outputs": [
    {
     "data": {
      "text/plain": [
       "(253049, 11)"
      ]
     },
     "execution_count": 3,
     "metadata": {},
     "output_type": "execute_result"
    }
   ],
   "execution_count": 3
  }
 ],
 "metadata": {
  "kernelspec": {
   "display_name": "Python 3",
   "language": "python",
   "name": "python3"
  },
  "language_info": {
   "codemirror_mode": {
    "name": "ipython",
    "version": 2
   },
   "file_extension": ".py",
   "mimetype": "text/x-python",
   "name": "python",
   "nbconvert_exporter": "python",
   "pygments_lexer": "ipython2",
   "version": "2.7.6"
  }
 },
 "nbformat": 4,
 "nbformat_minor": 5
}
