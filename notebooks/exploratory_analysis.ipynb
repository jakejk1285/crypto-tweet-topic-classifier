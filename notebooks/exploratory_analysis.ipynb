{
 "cells": [
  {
   "cell_type": "code",
   "id": "initial_id",
   "metadata": {
    "collapsed": true,
    "ExecuteTime": {
     "end_time": "2025-04-21T22:18:23.772619Z",
     "start_time": "2025-04-21T22:17:50.807171Z"
    }
   },
   "source": "import pandas as pd\nimport json\n\n# Load the JSON file using the new file structure\nwith open('../data/raw/crypto_tweets_october_2020.json', 'r') as f:\n    data = json.load(f)\n\n# Convert to DataFrame\ndf = pd.DataFrame(data)\nprint(f\"Initial dataset shape: {df.shape}\")\nprint(f\"Columns: {df.columns.tolist()}\")",
   "outputs": [],
   "execution_count": null
  },
  {
   "metadata": {
    "ExecuteTime": {
     "end_time": "2025-04-21T22:18:25.425818Z",
     "start_time": "2025-04-21T22:18:23.791060Z"
    }
   },
   "cell_type": "code",
   "source": [
    "relevant_keywords = {\n",
    "    '$DOT', 'Polkadot', '$XTZ', 'Stellar', 'Tezos'\n",
    "}\n",
    "# Filter rows where 'keywords' contains at least one relevant coin\n",
    "df = df[df['keywords'].apply(lambda kws: any(kw in relevant_keywords for kw in kws) if isinstance(kws, list) else False)]\n",
    "# Check the shape of the filtered DataFrame\n",
    "print(f\"Filtered DataFrame shape: {df_filtered.shape}\")"
   ],
   "id": "f9abe8b6ff1b2e94",
   "outputs": [
    {
     "name": "stdout",
     "output_type": "stream",
     "text": [
      "Filtered DataFrame shape: (0, 11)\n"
     ]
    }
   ],
   "execution_count": 41
  },
  {
   "metadata": {
    "ExecuteTime": {
     "end_time": "2025-04-21T22:18:25.445932Z",
     "start_time": "2025-04-21T21:25:23.176160Z"
    }
   },
   "cell_type": "code",
   "source": "# Get all unique keywords (only if keywords column exists)\nif 'keywords' in df.columns:\n    all_keywords = set()\n    for keywords in df['keywords']:\n        if isinstance(keywords, list):\n            all_keywords.update(keywords)\n        elif keywords is not None:  # Handle single keyword strings\n            all_keywords.add(keywords)\n    \n    print(f\"Total unique keywords found: {len(all_keywords)}\")\n    print(\"Sample keywords:\", list(all_keywords)[:20])\nelse:\n    print(\"Cannot extract keywords - column not found\")",
   "id": "2c3e739e8e25527f",
   "outputs": [],
   "execution_count": null
  },
  {
   "metadata": {
    "ExecuteTime": {
     "end_time": "2025-04-21T22:18:25.446252Z",
     "start_time": "2025-04-21T22:13:24.708793Z"
    }
   },
   "cell_type": "code",
   "source": "\n",
   "id": "7527b6ae972fa206",
   "outputs": [
    {
     "ename": "KeyError",
     "evalue": "'keywords'",
     "output_type": "error",
     "traceback": [
      "\u001B[31m---------------------------------------------------------------------------\u001B[39m",
      "\u001B[31mKeyError\u001B[39m                                  Traceback (most recent call last)",
      "\u001B[36mFile \u001B[39m\u001B[32m/Library/Frameworks/Python.framework/Versions/3.13/lib/python3.13/site-packages/pandas/core/indexes/base.py:3805\u001B[39m, in \u001B[36mIndex.get_loc\u001B[39m\u001B[34m(self, key)\u001B[39m\n\u001B[32m   3804\u001B[39m \u001B[38;5;28;01mtry\u001B[39;00m:\n\u001B[32m-> \u001B[39m\u001B[32m3805\u001B[39m     \u001B[38;5;28;01mreturn\u001B[39;00m \u001B[38;5;28;43mself\u001B[39;49m\u001B[43m.\u001B[49m\u001B[43m_engine\u001B[49m\u001B[43m.\u001B[49m\u001B[43mget_loc\u001B[49m\u001B[43m(\u001B[49m\u001B[43mcasted_key\u001B[49m\u001B[43m)\u001B[49m\n\u001B[32m   3806\u001B[39m \u001B[38;5;28;01mexcept\u001B[39;00m \u001B[38;5;167;01mKeyError\u001B[39;00m \u001B[38;5;28;01mas\u001B[39;00m err:\n",
      "\u001B[36mFile \u001B[39m\u001B[32mindex.pyx:167\u001B[39m, in \u001B[36mpandas._libs.index.IndexEngine.get_loc\u001B[39m\u001B[34m()\u001B[39m\n",
      "\u001B[36mFile \u001B[39m\u001B[32mindex.pyx:196\u001B[39m, in \u001B[36mpandas._libs.index.IndexEngine.get_loc\u001B[39m\u001B[34m()\u001B[39m\n",
      "\u001B[36mFile \u001B[39m\u001B[32mpandas/_libs/hashtable_class_helper.pxi:7081\u001B[39m, in \u001B[36mpandas._libs.hashtable.PyObjectHashTable.get_item\u001B[39m\u001B[34m()\u001B[39m\n",
      "\u001B[36mFile \u001B[39m\u001B[32mpandas/_libs/hashtable_class_helper.pxi:7089\u001B[39m, in \u001B[36mpandas._libs.hashtable.PyObjectHashTable.get_item\u001B[39m\u001B[34m()\u001B[39m\n",
      "\u001B[31mKeyError\u001B[39m: 'keywords'",
      "\nThe above exception was the direct cause of the following exception:\n",
      "\u001B[31mKeyError\u001B[39m                                  Traceback (most recent call last)",
      "\u001B[36mCell\u001B[39m\u001B[36m \u001B[39m\u001B[32mIn[37]\u001B[39m\u001B[32m, line 2\u001B[39m\n\u001B[32m      1\u001B[39m \u001B[38;5;66;03m# i want all the tweets that have the keywords $XTZ\u001B[39;00m\n\u001B[32m----> \u001B[39m\u001B[32m2\u001B[39m df_xtz = df[\u001B[43mdf\u001B[49m\u001B[43m[\u001B[49m\u001B[33;43m'\u001B[39;49m\u001B[33;43mkeywords\u001B[39;49m\u001B[33;43m'\u001B[39;49m\u001B[43m]\u001B[49m.apply(\u001B[38;5;28;01mlambda\u001B[39;00m kws: \u001B[33m'\u001B[39m\u001B[33m$XTZ\u001B[39m\u001B[33m'\u001B[39m \u001B[38;5;129;01min\u001B[39;00m kws \u001B[38;5;28;01mif\u001B[39;00m \u001B[38;5;28misinstance\u001B[39m(kws, \u001B[38;5;28mlist\u001B[39m) \u001B[38;5;28;01melse\u001B[39;00m \u001B[38;5;28;01mFalse\u001B[39;00m)]\n",
      "\u001B[36mFile \u001B[39m\u001B[32m/Library/Frameworks/Python.framework/Versions/3.13/lib/python3.13/site-packages/pandas/core/frame.py:4102\u001B[39m, in \u001B[36mDataFrame.__getitem__\u001B[39m\u001B[34m(self, key)\u001B[39m\n\u001B[32m   4100\u001B[39m \u001B[38;5;28;01mif\u001B[39;00m \u001B[38;5;28mself\u001B[39m.columns.nlevels > \u001B[32m1\u001B[39m:\n\u001B[32m   4101\u001B[39m     \u001B[38;5;28;01mreturn\u001B[39;00m \u001B[38;5;28mself\u001B[39m._getitem_multilevel(key)\n\u001B[32m-> \u001B[39m\u001B[32m4102\u001B[39m indexer = \u001B[38;5;28;43mself\u001B[39;49m\u001B[43m.\u001B[49m\u001B[43mcolumns\u001B[49m\u001B[43m.\u001B[49m\u001B[43mget_loc\u001B[49m\u001B[43m(\u001B[49m\u001B[43mkey\u001B[49m\u001B[43m)\u001B[49m\n\u001B[32m   4103\u001B[39m \u001B[38;5;28;01mif\u001B[39;00m is_integer(indexer):\n\u001B[32m   4104\u001B[39m     indexer = [indexer]\n",
      "\u001B[36mFile \u001B[39m\u001B[32m/Library/Frameworks/Python.framework/Versions/3.13/lib/python3.13/site-packages/pandas/core/indexes/base.py:3812\u001B[39m, in \u001B[36mIndex.get_loc\u001B[39m\u001B[34m(self, key)\u001B[39m\n\u001B[32m   3807\u001B[39m     \u001B[38;5;28;01mif\u001B[39;00m \u001B[38;5;28misinstance\u001B[39m(casted_key, \u001B[38;5;28mslice\u001B[39m) \u001B[38;5;129;01mor\u001B[39;00m (\n\u001B[32m   3808\u001B[39m         \u001B[38;5;28misinstance\u001B[39m(casted_key, abc.Iterable)\n\u001B[32m   3809\u001B[39m         \u001B[38;5;129;01mand\u001B[39;00m \u001B[38;5;28many\u001B[39m(\u001B[38;5;28misinstance\u001B[39m(x, \u001B[38;5;28mslice\u001B[39m) \u001B[38;5;28;01mfor\u001B[39;00m x \u001B[38;5;129;01min\u001B[39;00m casted_key)\n\u001B[32m   3810\u001B[39m     ):\n\u001B[32m   3811\u001B[39m         \u001B[38;5;28;01mraise\u001B[39;00m InvalidIndexError(key)\n\u001B[32m-> \u001B[39m\u001B[32m3812\u001B[39m     \u001B[38;5;28;01mraise\u001B[39;00m \u001B[38;5;167;01mKeyError\u001B[39;00m(key) \u001B[38;5;28;01mfrom\u001B[39;00m\u001B[38;5;250m \u001B[39m\u001B[34;01merr\u001B[39;00m\n\u001B[32m   3813\u001B[39m \u001B[38;5;28;01mexcept\u001B[39;00m \u001B[38;5;167;01mTypeError\u001B[39;00m:\n\u001B[32m   3814\u001B[39m     \u001B[38;5;66;03m# If we have a listlike key, _check_indexing_error will raise\u001B[39;00m\n\u001B[32m   3815\u001B[39m     \u001B[38;5;66;03m#  InvalidIndexError. Otherwise we fall through and re-raise\u001B[39;00m\n\u001B[32m   3816\u001B[39m     \u001B[38;5;66;03m#  the TypeError.\u001B[39;00m\n\u001B[32m   3817\u001B[39m     \u001B[38;5;28mself\u001B[39m._check_indexing_error(key)\n",
      "\u001B[31mKeyError\u001B[39m: 'keywords'"
     ]
    }
   ],
   "execution_count": 37
  },
  {
   "metadata": {
    "ExecuteTime": {
     "end_time": "2025-04-21T22:18:25.446318Z",
     "start_time": "2025-04-21T22:17:48.146992Z"
    }
   },
   "cell_type": "code",
   "source": "# Check if keywords column exists and clean the data\nif 'keywords' in df.columns:\n    # Remove all the tweets that have no keywords\n    df = df[df['keywords'].notna()]\n    # Remove the tweets that have keyword \"[]\"\n    df = df[df['keywords'].apply(lambda x: x != [] if isinstance(x, list) else True)]\n    print(f\"After cleaning: {df.shape}\")\nelse:\n    print(\"Keywords column not found. Available columns:\", df.columns.tolist())",
   "id": "9369c992bfe8e89c",
   "outputs": [],
   "execution_count": null
  },
  {
   "metadata": {
    "ExecuteTime": {
     "end_time": "2025-04-21T22:18:25.446373Z",
     "start_time": "2025-04-21T21:29:19.741440Z"
    }
   },
   "cell_type": "code",
   "source": [
    "\n",
    "df.shape"
   ],
   "id": "c20a1d6b1f64f497",
   "outputs": [
    {
     "data": {
      "text/plain": [
       "(5708189, 11)"
      ]
     },
     "execution_count": 18,
     "metadata": {},
     "output_type": "execute_result"
    }
   ],
   "execution_count": 18
  },
  {
   "metadata": {
    "ExecuteTime": {
     "end_time": "2025-04-21T22:18:25.446444Z",
     "start_time": "2025-04-21T21:37:32.367736Z"
    }
   },
   "cell_type": "code",
   "source": "# Define relevant cryptocurrency keywords for October 2020\n# Focus on major cryptocurrencies that were significant during that period\nrelevant_keywords = {\n    '$BTC', '$ETH', '$BNB', '$ADA', '$LINK', '$LTC', '$XLM', '$XMR',\n    'Bitcoin', 'Ethereum', 'Binance Coin', 'Cardano', 'ChainLink',\n    'Litecoin', 'Stellar', 'Monero'\n}\n\n# Filter rows where 'keywords' contains at least one relevant coin\nif 'keywords' in df.columns:\n    df_filtered = df[df['keywords'].apply(\n        lambda kws: any(kw in relevant_keywords for kw in kws) \n        if isinstance(kws, list) else (kws in relevant_keywords if kws else False)\n    )]\n    print(f\"Filtered dataset shape: {df_filtered.shape}\")\nelse:\n    print(\"Cannot filter by keywords - column not found\")\n    df_filtered = df.copy()",
   "id": "751ab97b63c2f29b",
   "outputs": [],
   "execution_count": null
  },
  {
   "metadata": {
    "ExecuteTime": {
     "end_time": "2025-04-21T22:18:25.446508Z",
     "start_time": "2025-04-21T21:40:12.922531Z"
    }
   },
   "cell_type": "code",
   "source": "df_filtered.shape",
   "id": "a9f1be2092742918",
   "outputs": [
    {
     "data": {
      "text/plain": [
       "(1098008, 11)"
      ]
     },
     "execution_count": 21,
     "metadata": {},
     "output_type": "execute_result"
    }
   ],
   "execution_count": 21
  },
  {
   "metadata": {
    "ExecuteTime": {
     "end_time": "2025-04-21T22:18:25.446559Z",
     "start_time": "2025-04-21T21:48:35.423195Z"
    }
   },
   "cell_type": "code",
   "source": [
    "import pandas as pd\n",
    "\n",
    " # Set sample size\n",
    "target_sample_size = 250000\n",
    "\n",
    "# Step 1: Explode keywords so each coin gets its own row\n",
    "df_exploded = df_filtered.explode('keywords')\n",
    "\n",
    "# Step 2: Filter only relevant keywords again (in case any slipped through)\n",
    "df_exploded = df_exploded[df_exploded['keywords'].isin(relevant_keywords)]\n",
    "\n",
    "# Step 3: Group by coin and get their counts\n",
    "coin_counts = df_exploded['keywords'].value_counts()\n",
    "coin_weights = (coin_counts / coin_counts.sum()) * target_sample_size\n",
    "coin_weights = coin_weights.round().astype(int)  # Number of tweets per coin\n",
    "\n",
    "# Step 4: Sample for each coin\n",
    "sampled_list = []\n",
    "\n",
    "for coin, n_samples in coin_weights.items():\n",
    "    coin_df = df_exploded[df_exploded['keywords'] == coin]\n",
    "    n_to_sample = min(n_samples, len(coin_df))  # Don't oversample\n",
    "    sampled = coin_df.sample(n=n_to_sample, random_state=42)\n",
    "    sampled_list.append(sampled)\n",
    "\n",
    "# Step 5: Combine back and drop duplicates\n",
    "df_stratified_sample = pd.concat(sampled_list).drop_duplicates(subset='id')\n",
    "\n",
    "# Step 6: Reset index\n",
    "df_stratified_sample = df_stratified_sample.reset_index(drop=True)\n",
    "\n",
    "print(f\"Final sample shape: {df_stratified_sample.shape}\")"
   ],
   "id": "843120a716f9ca25",
   "outputs": [
    {
     "name": "stdout",
     "output_type": "stream",
     "text": [
      "Final sample shape: (235421, 11)\n"
     ]
    }
   ],
   "execution_count": 22
  },
  {
   "metadata": {
    "ExecuteTime": {
     "end_time": "2025-04-21T22:18:25.446604Z",
     "start_time": "2025-04-21T22:03:18.734211Z"
    }
   },
   "cell_type": "code",
   "source": [
    "# i only want keywords  ['Polkadot', '$DOT', 'Stellar', '$XTZ', 'Tezos']\n",
    "relevant_keywords = {\n",
    "    '$DOT', 'Polkadot', '$XTZ', 'Stellar', 'Tezos'\n",
    "}\n",
    "# Filter rows where 'keywords' contains at least one relevant coin\n",
    "df = df[df['keywords'].apply(lambda kws: any(kw in relevant_keywords for kw in kws) if isinstance(kws, list) else False)]\n",
    "# Check the shape of the filtered DataFrame\n",
    "print(f\"Filtered DataFrame shape: {df_filtered.shape}\")\n"
   ],
   "id": "b30c5462eab21052",
   "outputs": [
    {
     "name": "stdout",
     "output_type": "stream",
     "text": [
      "Filtered DataFrame shape: (0, 11)\n"
     ]
    }
   ],
   "execution_count": 28
  },
  {
   "metadata": {
    "ExecuteTime": {
     "end_time": "2025-04-21T22:18:25.447653Z",
     "start_time": "2025-04-21T21:59:24.329052Z"
    }
   },
   "cell_type": "code",
   "source": [
    "import pandas as pd\n",
    "\n",
    "# Set sample size\n",
    "target_sample_size = 250000\n",
    "\n",
    "# Step 1: Explode keywords so each coin gets its own row\n",
    "df_exploded = df_filtered.explode('keywords')\n",
    "\n",
    "# Step 2: Filter only relevant keywords again (just to be safe)\n",
    "df_exploded = df_exploded[df_exploded['keywords'].isin(relevant_keywords)]\n",
    "\n",
    "# Step 3: Group by coin and get weights\n",
    "coin_counts = df_exploded['keywords'].value_counts()\n",
    "coin_weights = (coin_counts / coin_counts.sum()) * target_sample_size\n",
    "coin_weights = coin_weights.round().astype(int)\n",
    "\n",
    "# Step 4: Sample for each coin, ensuring at least 100 if possible\n",
    "sampled_list = []\n",
    "missing_coins = []\n",
    "\n",
    "for coin in relevant_keywords:\n",
    "    coin_df = df_exploded[df_exploded['keywords'] == coin]\n",
    "    if coin_df.empty:\n",
    "        print(f\"⚠️  No tweets found for: {coin}\")\n",
    "        missing_coins.append(coin)\n",
    "        continue\n",
    "    \n",
    "    # Use weight if available, else small fallback\n",
    "    n_samples = coin_weights.get(coin, 0)\n",
    "    n_to_sample = min(max(n_samples, 100), len(coin_df))  # at least 100 if possible\n",
    "    sampled = coin_df.sample(n=n_to_sample, random_state=42)\n",
    "    sampled_list.append(sampled)\n",
    "\n",
    "# Step 5: Combine and drop duplicates\n",
    "df_stratified_sample = pd.concat(sampled_list).drop_duplicates(subset='id')\n",
    "\n",
    "# Step 6: Reset index\n",
    "df_stratified_sample = df_stratified_sample.reset_index(drop=True)\n",
    "\n",
    "print(f\"✅ Final sample shape: {df_stratified_sample.shape}\")\n",
    "if missing_coins:\n",
    "    print(f\"\\n🔍 Missing coins from dataset: {missing_coins}\")"
   ],
   "id": "6d553bcb6ce0849c",
   "outputs": [
    {
     "name": "stdout",
     "output_type": "stream",
     "text": [
      "⚠️  No tweets found for: Polkadot\n",
      "⚠️  No tweets found for: $DOT\n",
      "⚠️  No tweets found for: Stellar\n",
      "⚠️  No tweets found for: $XTZ\n",
      "⚠️  No tweets found for: Tezos\n",
      "✅ Final sample shape: (235428, 11)\n",
      "\n",
      "🔍 Missing coins from dataset: ['Polkadot', '$DOT', 'Stellar', '$XTZ', 'Tezos']\n"
     ]
    }
   ],
   "execution_count": 25
  },
  {
   "metadata": {
    "ExecuteTime": {
     "end_time": "2025-04-21T22:18:25.447688Z",
     "start_time": "2025-04-21T22:01:28.098101Z"
    }
   },
   "cell_type": "code",
   "source": [
    "# give me the count of tweets for each coin in the sample\n",
    "df_stratified_sample['keywords'].value_counts()\n",
    "\n"
   ],
   "id": "848366082d7b2eea",
   "outputs": [
    {
     "data": {
      "text/plain": [
       "keywords\n",
       "Bitcoin         94238\n",
       "$BTC            44100\n",
       "$ETH            38369\n",
       "Ethereum        29711\n",
       "$BNB             6712\n",
       "$LINK            5145\n",
       "$LTC             4083\n",
       "$ADA             3648\n",
       "ChainLink        2882\n",
       "Litecoin         1730\n",
       "$XMR             1698\n",
       "Cardano          1458\n",
       "$XLM              935\n",
       "Monero            631\n",
       "Binance Coin       88\n",
       "Name: count, dtype: int64"
      ]
     },
     "execution_count": 26,
     "metadata": {},
     "output_type": "execute_result"
    }
   ],
   "execution_count": 26
  },
  {
   "metadata": {
    "ExecuteTime": {
     "end_time": "2025-04-21T22:18:25.447749Z",
     "start_time": "2025-04-21T22:05:06.290501Z"
    }
   },
   "cell_type": "code",
   "source": "df_stratified_sample",
   "id": "75411973f6f43e85",
   "outputs": [
    {
     "data": {
      "text/plain": [
       "                                         _id name content            id  \\\n",
       "0       {'$oid': '5f95004c5a40375671cec3b3'}  NaN     NaN  1.320222e+18   \n",
       "1       {'$oid': '5f94b6745a40375671ccad59'}  NaN     NaN  1.320142e+18   \n",
       "2       {'$oid': '5f9550015a40375671d0b41c'}  NaN     NaN  1.320307e+18   \n",
       "3       {'$oid': '5f943b625a40375671c82c94'}  NaN     NaN  1.320010e+18   \n",
       "4       {'$oid': '5f9848d8228456f5a5a0ef73'}  NaN     NaN  1.320931e+18   \n",
       "...                                      ...  ...     ...           ...   \n",
       "235423  {'$oid': '5f93f8925a40375671c61075'}  NaN     NaN  1.319939e+18   \n",
       "235424  {'$oid': '5f935b825a40375671c19bf2'}  NaN     NaN  1.319770e+18   \n",
       "235425  {'$oid': '5f94471a5a40375671c8a46c'}  NaN     NaN  1.320022e+18   \n",
       "235426  {'$oid': '5f930f525a40375671be94f6'}  NaN     NaN  1.319688e+18   \n",
       "235427  {'$oid': '5f9176a76bcf308bff37612d'}  NaN     NaN  1.319248e+18   \n",
       "\n",
       "                                                     text  keywords  \\\n",
       "0       @IvanOnTech #Ethereum is like discovering a ne...  Ethereum   \n",
       "1       @CryptoFun_ID @Xplosive_ETH - What deflationar...  Ethereum   \n",
       "2       @FBI\\n \\n@SEC_Enforcement\\n please investigate...  Ethereum   \n",
       "3       RT @RewardPortal_: The Trillion dollar printer...  Ethereum   \n",
       "4          RT @fonship: Wow $ETH\\nhttps://t.co/HPcllAR0Fy  Ethereum   \n",
       "...                                                   ...       ...   \n",
       "235423  RT @Bloqport: Don’t forget: \\n\\n$50 Bitcoin Gi...     $LINK   \n",
       "235424  @ChainLinkGod @KeeperOfLink @ChainlinkoracIe I...     $LINK   \n",
       "235425     in next 2 months ~3x for $link quite possible.     $LINK   \n",
       "235426  #SERGS token is on mainnet and I'm excited to ...     $LINK   \n",
       "235427  RT @XVGhulk: #chainlink $link #bitcoin\\n#Power...     $LINK   \n",
       "\n",
       "         timestamp_ms  followers_count urls is_retweet  retweeted_id  \n",
       "0       1603600361135              NaN  NaN        NaN           NaN  \n",
       "1       1603581434565              NaN  NaN        NaN           NaN  \n",
       "2       1603620718763              NaN  NaN        NaN           NaN  \n",
       "3       1603549997086              NaN  NaN        NaN           NaN  \n",
       "4       1603769481059              NaN  NaN        NaN           NaN  \n",
       "...               ...              ...  ...        ...           ...  \n",
       "235423  1603532931581              NaN  NaN        NaN           NaN  \n",
       "235424  1603492675517              NaN  NaN        NaN           NaN  \n",
       "235425  1603552761108              NaN  NaN        NaN           NaN  \n",
       "235426  1603473224077              NaN  NaN        NaN           NaN  \n",
       "235427  1603368322729              NaN  NaN        NaN           NaN  \n",
       "\n",
       "[235428 rows x 11 columns]"
      ],
      "text/html": [
       "<div>\n",
       "<style scoped>\n",
       "    .dataframe tbody tr th:only-of-type {\n",
       "        vertical-align: middle;\n",
       "    }\n",
       "\n",
       "    .dataframe tbody tr th {\n",
       "        vertical-align: top;\n",
       "    }\n",
       "\n",
       "    .dataframe thead th {\n",
       "        text-align: right;\n",
       "    }\n",
       "</style>\n",
       "<table border=\"1\" class=\"dataframe\">\n",
       "  <thead>\n",
       "    <tr style=\"text-align: right;\">\n",
       "      <th></th>\n",
       "      <th>_id</th>\n",
       "      <th>name</th>\n",
       "      <th>content</th>\n",
       "      <th>id</th>\n",
       "      <th>text</th>\n",
       "      <th>keywords</th>\n",
       "      <th>timestamp_ms</th>\n",
       "      <th>followers_count</th>\n",
       "      <th>urls</th>\n",
       "      <th>is_retweet</th>\n",
       "      <th>retweeted_id</th>\n",
       "    </tr>\n",
       "  </thead>\n",
       "  <tbody>\n",
       "    <tr>\n",
       "      <th>0</th>\n",
       "      <td>{'$oid': '5f95004c5a40375671cec3b3'}</td>\n",
       "      <td>NaN</td>\n",
       "      <td>NaN</td>\n",
       "      <td>1.320222e+18</td>\n",
       "      <td>@IvanOnTech #Ethereum is like discovering a ne...</td>\n",
       "      <td>Ethereum</td>\n",
       "      <td>1603600361135</td>\n",
       "      <td>NaN</td>\n",
       "      <td>NaN</td>\n",
       "      <td>NaN</td>\n",
       "      <td>NaN</td>\n",
       "    </tr>\n",
       "    <tr>\n",
       "      <th>1</th>\n",
       "      <td>{'$oid': '5f94b6745a40375671ccad59'}</td>\n",
       "      <td>NaN</td>\n",
       "      <td>NaN</td>\n",
       "      <td>1.320142e+18</td>\n",
       "      <td>@CryptoFun_ID @Xplosive_ETH - What deflationar...</td>\n",
       "      <td>Ethereum</td>\n",
       "      <td>1603581434565</td>\n",
       "      <td>NaN</td>\n",
       "      <td>NaN</td>\n",
       "      <td>NaN</td>\n",
       "      <td>NaN</td>\n",
       "    </tr>\n",
       "    <tr>\n",
       "      <th>2</th>\n",
       "      <td>{'$oid': '5f9550015a40375671d0b41c'}</td>\n",
       "      <td>NaN</td>\n",
       "      <td>NaN</td>\n",
       "      <td>1.320307e+18</td>\n",
       "      <td>@FBI\\n \\n@SEC_Enforcement\\n please investigate...</td>\n",
       "      <td>Ethereum</td>\n",
       "      <td>1603620718763</td>\n",
       "      <td>NaN</td>\n",
       "      <td>NaN</td>\n",
       "      <td>NaN</td>\n",
       "      <td>NaN</td>\n",
       "    </tr>\n",
       "    <tr>\n",
       "      <th>3</th>\n",
       "      <td>{'$oid': '5f943b625a40375671c82c94'}</td>\n",
       "      <td>NaN</td>\n",
       "      <td>NaN</td>\n",
       "      <td>1.320010e+18</td>\n",
       "      <td>RT @RewardPortal_: The Trillion dollar printer...</td>\n",
       "      <td>Ethereum</td>\n",
       "      <td>1603549997086</td>\n",
       "      <td>NaN</td>\n",
       "      <td>NaN</td>\n",
       "      <td>NaN</td>\n",
       "      <td>NaN</td>\n",
       "    </tr>\n",
       "    <tr>\n",
       "      <th>4</th>\n",
       "      <td>{'$oid': '5f9848d8228456f5a5a0ef73'}</td>\n",
       "      <td>NaN</td>\n",
       "      <td>NaN</td>\n",
       "      <td>1.320931e+18</td>\n",
       "      <td>RT @fonship: Wow $ETH\\nhttps://t.co/HPcllAR0Fy</td>\n",
       "      <td>Ethereum</td>\n",
       "      <td>1603769481059</td>\n",
       "      <td>NaN</td>\n",
       "      <td>NaN</td>\n",
       "      <td>NaN</td>\n",
       "      <td>NaN</td>\n",
       "    </tr>\n",
       "    <tr>\n",
       "      <th>...</th>\n",
       "      <td>...</td>\n",
       "      <td>...</td>\n",
       "      <td>...</td>\n",
       "      <td>...</td>\n",
       "      <td>...</td>\n",
       "      <td>...</td>\n",
       "      <td>...</td>\n",
       "      <td>...</td>\n",
       "      <td>...</td>\n",
       "      <td>...</td>\n",
       "      <td>...</td>\n",
       "    </tr>\n",
       "    <tr>\n",
       "      <th>235423</th>\n",
       "      <td>{'$oid': '5f93f8925a40375671c61075'}</td>\n",
       "      <td>NaN</td>\n",
       "      <td>NaN</td>\n",
       "      <td>1.319939e+18</td>\n",
       "      <td>RT @Bloqport: Don’t forget: \\n\\n$50 Bitcoin Gi...</td>\n",
       "      <td>$LINK</td>\n",
       "      <td>1603532931581</td>\n",
       "      <td>NaN</td>\n",
       "      <td>NaN</td>\n",
       "      <td>NaN</td>\n",
       "      <td>NaN</td>\n",
       "    </tr>\n",
       "    <tr>\n",
       "      <th>235424</th>\n",
       "      <td>{'$oid': '5f935b825a40375671c19bf2'}</td>\n",
       "      <td>NaN</td>\n",
       "      <td>NaN</td>\n",
       "      <td>1.319770e+18</td>\n",
       "      <td>@ChainLinkGod @KeeperOfLink @ChainlinkoracIe I...</td>\n",
       "      <td>$LINK</td>\n",
       "      <td>1603492675517</td>\n",
       "      <td>NaN</td>\n",
       "      <td>NaN</td>\n",
       "      <td>NaN</td>\n",
       "      <td>NaN</td>\n",
       "    </tr>\n",
       "    <tr>\n",
       "      <th>235425</th>\n",
       "      <td>{'$oid': '5f94471a5a40375671c8a46c'}</td>\n",
       "      <td>NaN</td>\n",
       "      <td>NaN</td>\n",
       "      <td>1.320022e+18</td>\n",
       "      <td>in next 2 months ~3x for $link quite possible.</td>\n",
       "      <td>$LINK</td>\n",
       "      <td>1603552761108</td>\n",
       "      <td>NaN</td>\n",
       "      <td>NaN</td>\n",
       "      <td>NaN</td>\n",
       "      <td>NaN</td>\n",
       "    </tr>\n",
       "    <tr>\n",
       "      <th>235426</th>\n",
       "      <td>{'$oid': '5f930f525a40375671be94f6'}</td>\n",
       "      <td>NaN</td>\n",
       "      <td>NaN</td>\n",
       "      <td>1.319688e+18</td>\n",
       "      <td>#SERGS token is on mainnet and I'm excited to ...</td>\n",
       "      <td>$LINK</td>\n",
       "      <td>1603473224077</td>\n",
       "      <td>NaN</td>\n",
       "      <td>NaN</td>\n",
       "      <td>NaN</td>\n",
       "      <td>NaN</td>\n",
       "    </tr>\n",
       "    <tr>\n",
       "      <th>235427</th>\n",
       "      <td>{'$oid': '5f9176a76bcf308bff37612d'}</td>\n",
       "      <td>NaN</td>\n",
       "      <td>NaN</td>\n",
       "      <td>1.319248e+18</td>\n",
       "      <td>RT @XVGhulk: #chainlink $link #bitcoin\\n#Power...</td>\n",
       "      <td>$LINK</td>\n",
       "      <td>1603368322729</td>\n",
       "      <td>NaN</td>\n",
       "      <td>NaN</td>\n",
       "      <td>NaN</td>\n",
       "      <td>NaN</td>\n",
       "    </tr>\n",
       "  </tbody>\n",
       "</table>\n",
       "<p>235428 rows × 11 columns</p>\n",
       "</div>"
      ]
     },
     "execution_count": 29,
     "metadata": {},
     "output_type": "execute_result"
    }
   ],
   "execution_count": 29
  }
 ],
 "metadata": {
  "kernelspec": {
   "display_name": "Python 3",
   "language": "python",
   "name": "python3"
  },
  "language_info": {
   "codemirror_mode": {
    "name": "ipython",
    "version": 2
   },
   "file_extension": ".py",
   "mimetype": "text/x-python",
   "name": "python",
   "nbconvert_exporter": "python",
   "pygments_lexer": "ipython2",
   "version": "2.7.6"
  }
 },
 "nbformat": 4,
 "nbformat_minor": 5
}
